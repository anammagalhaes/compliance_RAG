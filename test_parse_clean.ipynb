{
 "cells": [
  {
   "cell_type": "code",
   "execution_count": 1,
   "id": "a13e0073",
   "metadata": {},
   "outputs": [],
   "source": [
    "import re\n",
    "from pathlib import Path\n",
    "from langchain.schema import Document\n",
    "from langchain_community.document_loaders import (\n",
    "    PyPDFLoader,\n",
    "    TextLoader,\n",
    "    CSVLoader,\n",
    "    UnstructuredHTMLLoader\n",
    ")\n"
   ]
  },
  {
   "cell_type": "code",
   "execution_count": 2,
   "id": "55d340e2",
   "metadata": {},
   "outputs": [
    {
     "data": {
      "text/plain": [
       "[WindowsPath('data/raw/apple_10k_2022.txt'),\n",
       " WindowsPath('data/raw/eu_annex2_sanctions.pdf'),\n",
       " WindowsPath('data/raw/fatf_annual_report_2022-2023.pdf'),\n",
       " WindowsPath('data/raw/fatf_assessment_methodology_2022.pdf'),\n",
       " WindowsPath('data/raw/fatf_effectiveness_compliance_report_2022.pdf'),\n",
       " WindowsPath('data/raw/fatf_procedures_mutual_evaluations_2022.pdf'),\n",
       " WindowsPath('data/raw/fatf_universal_procedures.pdf'),\n",
       " WindowsPath('data/raw/fincen_advisory_corruption_2022.pdf'),\n",
       " WindowsPath('data/raw/fincen_advisory_elder_exploitation_2022.pdf'),\n",
       " WindowsPath('data/raw/fincen_alert_pig_butchering_2023.pdf'),\n",
       " WindowsPath('data/raw/fincen_alert_russian_elites_2022.pdf'),\n",
       " WindowsPath('data/raw/fincen_ransomware_advisory.pdf'),\n",
       " WindowsPath('data/raw/microsoft_10k_2022.txt'),\n",
       " WindowsPath('data/raw/ofac_sdn_list.csv')]"
      ]
     },
     "execution_count": 2,
     "metadata": {},
     "output_type": "execute_result"
    }
   ],
   "source": [
    "# Verificar os arquivos disponíveis em data/raw\n",
    "from pathlib import Path\n",
    "\n",
    "raw_path = Path(\"data/raw\")\n",
    "list(raw_path.rglob(\"*\"))\n"
   ]
  },
  {
   "cell_type": "code",
   "execution_count": 4,
   "id": "c1becca6",
   "metadata": {},
   "outputs": [
    {
     "name": "stdout",
     "output_type": "stream",
     "text": [
      "Total de páginas: 15\n",
      "1 \n",
      "Annex II – Sanctions-related commitments   \n",
      " \n",
      "The sequence of implementation of the commitments d etailed in this Annex is \n",
      "specified in Annex V (Implementation Plan) to this Joint Comprehensive Plan of \n",
      "Action (JCPOA). \n",
      "  \n",
      " \n",
      "A.  European Union 1 \n",
      " \n",
      "1.  The EU and EU Member States commit to terminate all  provisions of \n",
      "Council Regulation (EU) No 267/2012 (as subsequentl y amended) \n",
      "implementing all nuclear-related sanctions or restr ictive measures as \n",
      "specified in Sections 1.1-1.10 below, to terminate all provisions of \n",
      "Council Decision 2010/413/CFSP (as subsequently ame nded), as \n",
      "specified in Sections 1.1-1.10 below, and to termin ate or amend \n",
      "national implementing legislation as required, in a ccordance with \n",
      "Annex V:  \n",
      " \n",
      "1.1. \n",
      " Financial, banking and insurance measures 2 \n",
      " \n",
      "1.1.1 \n",
      " Prohibition and authorisation regimes on financial transfers to and \n",
      "from Iran (Article 10 of Council Decision 2010/413/ CFSP; Articles 30, \n",
      "30a, 30b and 31 of Council Regulation (EU) No 267/2 012); \n",
      " \n",
      "1.1.2. \n",
      " Sanctions on banking activities (Article 11 of Coun cil Decision \n",
      "2010/413/CFSP; Article 33 of Council Regulation (EU ) No 267/2012); \n",
      " \n",
      "1.1.3. \n",
      " Sanctions on insurance (Article 12 of Council Decis ion \n",
      "2010/413/CFSP; Article 35 of Council Regulation (EU ) No 267/2012); \n",
      " \n",
      "1.1.4. \n",
      " Sanctions on financial messaging services (Article 20(12) of Council \n",
      "Decision 2010/413/CFSP; Article 23(4) of Council Re gulation (EU) No \n",
      "267/2012); \n",
      " \n",
      "1.1.5. \n",
      " Sanctions on financial support for trade with Iran ( Article 8 of \n",
      "Council Decision 2010/413/CFSP); \n",
      " \n",
      "1.1.6.  Sanctions on grants, financial assistance and conce ssional loans \n",
      "(Article 9 of Council Decision 2010/413/CFSP); \n",
      "                                                           \n",
      "1 For the purposes of EU legislation, “Iranian perso n, entity or body” means: \n",
      "(i)  the State of Iran or any public authority thereof; \n",
      "(ii)  any natural person in, or resident in, Iran;  \n",
      "(iii)  any legal person, entity or body having its registe red office in Iran; \n",
      "(iv)  any legal person, entity or body, inside or outside  Iran, owned or controlled directly or \n",
      "indirectly by one or more of the above mentioned pe rsons or bodies. \n",
      "2 The headings and subheadings in this Annex are for  descriptive purposes only.\n"
     ]
    }
   ],
   "source": [
    "# Carregando um documento PDF para inspecionar\n",
    "pdf_path = next(raw_path.rglob(\"*.pdf\"), None)\n",
    "\n",
    "if pdf_path:\n",
    "    loader = PyPDFLoader(str(pdf_path))\n",
    "    raw_docs = loader.load()\n",
    "    print(f\"Total de páginas: {len(raw_docs)}\")\n",
    "    print(raw_docs[0].page_content[:10000])  # Visualizar um trecho\n",
    "else:\n",
    "    print(\"Nenhum PDF encontrado.\")"
   ]
  },
  {
   "cell_type": "code",
   "execution_count": 5,
   "id": "ef10f4c4",
   "metadata": {},
   "outputs": [
    {
     "name": "stdout",
     "output_type": "stream",
     "text": [
      "\n",
      "--- Página 1 ---\n",
      "1 \n",
      "Annex II – Sanctions-related commitments   \n",
      " \n",
      "The sequence of implementation of the commitments d etailed in this Annex is \n",
      "specified in Annex V (Implementation Plan) to this Joint Comprehensive Plan of \n",
      "Action (JCPOA). \n",
      "  \n",
      " \n",
      "A.  European Union 1 \n",
      " \n",
      "1.  The EU and EU Member States commit to terminate all  provisions of \n",
      "Council Regulation (EU) No 267/2012 (as subsequentl y amended) \n",
      "implementing all nuclear-related sanctions or restr ictive measures as \n",
      "specified in Sections 1.1-1.10 below, t\n",
      "\n",
      "--- Página 2 ---\n",
      "2 \n",
      " \n",
      "1.1.7. \n",
      " Sanctions on Government of Iran public-guaranteed b onds (Article 13 \n",
      "of Council Decision 2010/413/CFSP; Article 34 of Co uncil Regulation \n",
      "(EU) No 267/2012); and \n",
      " \n",
      "1.1.8. \n",
      " Sanctions on associated services 3 for each of the categories above (see \n",
      "the references above). \n",
      " \n",
      "1.2. \n",
      " Oil, gas and petrochemical sectors \n",
      " \n",
      "1.2.1. \n",
      " Sanctions on the import of oil and gas from Iran ( A rticles 3a, 3c and \n",
      "3e of Council Decision 2010/413/CFSP; Articles 11, 12 and 14a, and \n",
      "Annexes IV and I\n",
      "\n",
      "--- Página 3 ---\n",
      "3 \n",
      " \n",
      "1.3.3.  Sanctions on associated services for each of the ca tegories above (see \n",
      "the references above). \n",
      " \n",
      "1.4. \n",
      " Gold, other precious metals, banknotes and coinage  \n",
      " \n",
      "1.4.1.  Sanctions on gold, precious metals and diamonds, ba nknotes and \n",
      "coinage (Articles 4c and 4d of Council Decision 201 0/413/CFSP; \n",
      "Articles 15 and 16, and Annex VII of Council Regula tion (EU) No \n",
      "267/2012); and \n",
      " \n",
      "1.4.2. \n",
      " Sanctions on associated services for each of the ca tegories above (see \n",
      "the references above).\n"
     ]
    }
   ],
   "source": [
    "# Vamos inspecionar várias páginas para ver padrões repetitivos (headers/footers)\n",
    "for i, doc in enumerate(raw_docs[:3]):\n",
    "    print(f\"\\n--- Página {i+1} ---\")\n",
    "    print(doc.page_content[:500])\n"
   ]
  },
  {
   "cell_type": "code",
   "execution_count": 6,
   "id": "53f731e1",
   "metadata": {},
   "outputs": [
    {
     "name": "stdout",
     "output_type": "stream",
     "text": [
      "1 Annex II   Sanctions-related commitments The sequence of implementation of the commitments d etailed in this Annex is specified in Annex V (Implementation Plan) to this Joint Comprehensive Plan of Action (JCPOA). A. European Union 1 1. The EU and EU Member States commit to terminate all provisions of Council Regulation (EU) No 267/2012 (as subsequentl y amended) implementing all nuclear-related sanctions or restr ictive measures as specified in Sections 1.1-1.10 below, to terminate all provisions of Council Decision 2010/413/CFSP (as subsequently ame nded), as specified in Sections 1.1-1.10 below, and to termin ate or amend national implementing legislation as required, in a ccordance with Annex V: 1.1. Financial, banking and insurance measures 2 1.1.1 Prohibition and authorisation regimes on financial transfers to and from Iran (Article 10 of Council Decision 2010/413/ CFSP; Articles 30, 30a, 30b and 31 of Council Regulation (EU) No 267/2 012); 1.1.2. Sanctions on banking activities\n"
     ]
    }
   ],
   "source": [
    "sample_text = raw_docs[0].page_content\n",
    "lines = sample_text.splitlines()\n",
    "\n",
    "clean_lines = []\n",
    "for line in lines:\n",
    "    line = line.strip()\n",
    "    if not line:\n",
    "        continue\n",
    "    if re.match(r\"^(Page \\d+ of \\d+|©.*|Confidential.*)$\", line, re.IGNORECASE):\n",
    "        continue\n",
    "    clean_lines.append(line)\n",
    "\n",
    "cleaned_text = \" \".join(clean_lines)\n",
    "cleaned_text = re.sub(r\"\\s+\", \" \", cleaned_text)\n",
    "cleaned_text = re.sub(r\"[^\\x20-\\x7E]+\", \" \", cleaned_text)\n",
    "\n",
    "print(cleaned_text[:1000])\n"
   ]
  },
  {
   "cell_type": "code",
   "execution_count": 7,
   "id": "9de550ff",
   "metadata": {},
   "outputs": [],
   "source": [
    "def load_documents(directory: str) -> list[Document]:\n",
    "    docs = []\n",
    "    path = Path(directory)\n",
    "\n",
    "    for file in path.rglob(\"*\"):\n",
    "        suffix = file.suffix.lower()\n",
    "        if suffix == \".pdf\":\n",
    "            docs.extend(PyPDFLoader(str(file)).load())\n",
    "        elif suffix == \".txt\":\n",
    "            docs.extend(TextLoader(str(file)).load())\n",
    "        elif suffix == \".csv\":\n",
    "            docs.extend(CSVLoader(file_path=str(file), encoding='utf-8').load())\n",
    "        elif suffix in [\".html\", \".htm\"]:\n",
    "            docs.extend(UnstructuredHTMLLoader(str(file)).load())\n",
    "    return docs\n",
    "\n",
    "\n",
    "def clean_and_parse(docs: list[Document]) -> list[Document]:\n",
    "    cleaned_docs = []\n",
    "    header_footer_pattern = re.compile(\n",
    "        r\"^(Page \\d+ of \\d+|©.*|Confidential.*)$\", re.IGNORECASE\n",
    "    )\n",
    "\n",
    "    for doc in docs:\n",
    "        text = doc.page_content or \"\"\n",
    "        lines = text.splitlines()\n",
    "        filtered_lines = []\n",
    "        for line in lines:\n",
    "            line = line.strip()\n",
    "            if not line or header_footer_pattern.match(line):\n",
    "                continue\n",
    "            filtered_lines.append(line)\n",
    "\n",
    "        cleaned_text = \" \".join(filtered_lines)\n",
    "        cleaned_text = re.sub(r\"\\s+\", \" \", cleaned_text)\n",
    "        cleaned_text = re.sub(r\"[^\\x20-\\x7E]+\", \" \", cleaned_text)\n",
    "\n",
    "        cleaned_docs.append(Document(page_content=cleaned_text, metadata=doc.metadata))\n",
    "\n",
    "    return cleaned_docs\n"
   ]
  },
  {
   "cell_type": "markdown",
   "id": "69cbc350",
   "metadata": {},
   "source": [
    "----------------------------------------------------------------"
   ]
  },
  {
   "cell_type": "markdown",
   "id": "4c57052a",
   "metadata": {},
   "source": [
    "### Checking embeddings"
   ]
  },
  {
   "cell_type": "code",
   "execution_count": null,
   "id": "16e84bb7",
   "metadata": {},
   "outputs": [
    {
     "name": "stdout",
     "output_type": "stream",
     "text": [
      "=== Carregando documentos de data/raw ===\n",
      "=== 18047 documentos carregados ===\n"
     ]
    }
   ],
   "source": [
    "# 1. Imports\n",
    "import os\n",
    "from src.parser import load_documents\n",
    "from src.embedder import embed_and_store\n",
    "\n",
    "# 🛠 2. Paths de teste (usar diretório separado para não sobrescrever index principal)\n",
    "DOCS_DIR = \"data/raw\"\n",
    "TEST_INDEX_DIR = \"data/index_test\"\n",
    "\n",
    "# 🧪 3. Executando a pipeline manualmente (equivalente ao build_vector_store)\n",
    "print(f\"=== Carregando documentos de {DOCS_DIR} ===\")\n",
    "documents = load_documents(DOCS_DIR)\n",
    "print(f\"=== {len(documents)} documentos carregados ===\") "
   ]
  },
  {
   "cell_type": "code",
   "execution_count": 16,
   "id": "3c84904f",
   "metadata": {},
   "outputs": [],
   "source": [
    "from langchain_community.vectorstores import FAISS\n",
    "from langchain_community.embeddings import HuggingFaceEmbeddings\n"
   ]
  },
  {
   "cell_type": "code",
   "execution_count": null,
   "id": "cd89492e",
   "metadata": {},
   "outputs": [],
   "source": [
    "import pandas as pd\n",
    "from langchain_community.vectorstores import FAISS\n",
    "from langchain_community.embeddings import HuggingFaceEmbeddings\n",
    "\n",
    "def inspect_index(index_path=\"data/index\", preview_chars=300):\n",
    "    embedding = HuggingFaceEmbeddings(\n",
    "        model_name=\"sentence-transformers/paraphrase-albert-small-v2\",\n",
    "        encode_kwargs={\"normalize_embeddings\": True}\n",
    "    )\n",
    "\n",
    "    db = FAISS.load_local(index_path, embedding, allow_dangerous_deserialization=True)\n",
    "\n",
    "    docs_summary = []\n",
    "    for i, doc in enumerate(db.docstore._dict.values()):\n",
    "        summary = {\n",
    "            \"doc_id\": i + 1,\n",
    "            \"source\": doc.metadata.get(\"source\", \"unknown\"),\n",
    "            \"preview\": doc.page_content[:preview_chars]\n",
    "        }\n",
    "        docs_summary.append(summary)\n",
    "\n",
    "    # Convertendo para DataFrame para visualização\n",
    "    df = pd.DataFrame(docs_summary)\n",
    "\n",
    "    # Exibe metadados úteis\n",
    "    print(\"Total de chunks armazenados:\", len(df))\n",
    "    print(\" Total de vetores FAISS:\", db.index.ntotal)\n",
    "\n",
    "    return df "
   ]
  },
  {
   "cell_type": "code",
   "execution_count": 21,
   "id": "6c753c25",
   "metadata": {},
   "outputs": [
    {
     "name": "stdout",
     "output_type": "stream",
     "text": [
      "📦 Total de chunks armazenados: 2673\n",
      "🔢 Total de vetores FAISS: 2673\n"
     ]
    },
    {
     "data": {
      "text/html": [
       "<div>\n",
       "<style scoped>\n",
       "    .dataframe tbody tr th:only-of-type {\n",
       "        vertical-align: middle;\n",
       "    }\n",
       "\n",
       "    .dataframe tbody tr th {\n",
       "        vertical-align: top;\n",
       "    }\n",
       "\n",
       "    .dataframe thead th {\n",
       "        text-align: right;\n",
       "    }\n",
       "</style>\n",
       "<table border=\"1\" class=\"dataframe\">\n",
       "  <thead>\n",
       "    <tr style=\"text-align: right;\">\n",
       "      <th></th>\n",
       "      <th>doc_id</th>\n",
       "      <th>source</th>\n",
       "      <th>preview</th>\n",
       "    </tr>\n",
       "  </thead>\n",
       "  <tbody>\n",
       "    <tr>\n",
       "      <th>0</th>\n",
       "      <td>1</td>\n",
       "      <td>data\\raw\\eu_annex2_sanctions.pdf</td>\n",
       "      <td>1 \\nAnnex II – Sanctions-related commitments  ...</td>\n",
       "    </tr>\n",
       "    <tr>\n",
       "      <th>1</th>\n",
       "      <td>2</td>\n",
       "      <td>data\\raw\\eu_annex2_sanctions.pdf</td>\n",
       "      <td>specified in Sections 1.1-1.10 below, to termi...</td>\n",
       "    </tr>\n",
       "    <tr>\n",
       "      <th>2</th>\n",
       "      <td>3</td>\n",
       "      <td>data\\raw\\eu_annex2_sanctions.pdf</td>\n",
       "      <td>30a, 30b and 31 of Council Regulation (EU) No ...</td>\n",
       "    </tr>\n",
       "    <tr>\n",
       "      <th>3</th>\n",
       "      <td>4</td>\n",
       "      <td>data\\raw\\eu_annex2_sanctions.pdf</td>\n",
       "      <td>1.1.5. \\n Sanctions on financial support for t...</td>\n",
       "    </tr>\n",
       "    <tr>\n",
       "      <th>4</th>\n",
       "      <td>5</td>\n",
       "      <td>data\\raw\\eu_annex2_sanctions.pdf</td>\n",
       "      <td>(iii)  any legal person, entity or body having...</td>\n",
       "    </tr>\n",
       "  </tbody>\n",
       "</table>\n",
       "</div>"
      ],
      "text/plain": [
       "   doc_id                            source  \\\n",
       "0       1  data\\raw\\eu_annex2_sanctions.pdf   \n",
       "1       2  data\\raw\\eu_annex2_sanctions.pdf   \n",
       "2       3  data\\raw\\eu_annex2_sanctions.pdf   \n",
       "3       4  data\\raw\\eu_annex2_sanctions.pdf   \n",
       "4       5  data\\raw\\eu_annex2_sanctions.pdf   \n",
       "\n",
       "                                             preview  \n",
       "0  1 \\nAnnex II – Sanctions-related commitments  ...  \n",
       "1  specified in Sections 1.1-1.10 below, to termi...  \n",
       "2  30a, 30b and 31 of Council Regulation (EU) No ...  \n",
       "3  1.1.5. \\n Sanctions on financial support for t...  \n",
       "4  (iii)  any legal person, entity or body having...  "
      ]
     },
     "execution_count": 21,
     "metadata": {},
     "output_type": "execute_result"
    }
   ],
   "source": [
    "df_chunks = inspect_index()\n",
    "df_chunks.head(5)  # mostra os primeiros 5\n"
   ]
  }
 ],
 "metadata": {
  "kernelspec": {
   "display_name": "venv",
   "language": "python",
   "name": "python3"
  },
  "language_info": {
   "codemirror_mode": {
    "name": "ipython",
    "version": 3
   },
   "file_extension": ".py",
   "mimetype": "text/x-python",
   "name": "python",
   "nbconvert_exporter": "python",
   "pygments_lexer": "ipython3",
   "version": "3.11.9"
  }
 },
 "nbformat": 4,
 "nbformat_minor": 5
}
